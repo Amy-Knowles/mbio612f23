{
 "cells": [
  {
   "cell_type": "markdown",
   "id": "5be45d80",
   "metadata": {
    "pycharm": {
     "name": "#%% md\n"
    }
   },
   "source": [
    "### Question 0\n",
    "\n",
    "Create a concept diagram that incorporates the following GitHub terminology. Feel free to include any missing keywords that would help clarify the relationships in the concept diagram.\n",
    "\n",
    "\n",
    "`Push`, `Repository`, `Clone`, `Pull`, `Pull Request`, `Branch, Merge`, `GitHub Client`, `README file`, `Private or Public`"
   ]
  },
  {
   "cell_type": "code",
   "execution_count": null,
   "id": "5378d723",
   "metadata": {
    "pycharm": {
     "name": "#%%\n"
    }
   },
   "outputs": [],
   "source": [
    "# Add your photo here"
   ]
  },
  {
   "cell_type": "markdown",
   "id": "7d442aad",
   "metadata": {
    "pycharm": {
     "name": "#%% md\n"
    }
   },
   "source": [
    "#### Question 1\n",
    "#### Question 1\n",
    "\n",
    "Run the following expression in R:\n",
    "\n",
    "```R\n",
    "matrix(c(1,2,3,4,5,6), nrow = 3)\n",
    "```\n",
    "\n",
    "This expression generates the following matrix:\n",
    "|  |  |\n",
    "|---|---|\n",
    "| 1 | 4 |\n",
    "| 2 | 5 |\n",
    "| 3 | 6 |\n",
    "\n",
    "How can you modify the call to matrix() to produce the following matrix instead?\n",
    "\n",
    "|   | col_1 |  col_2 |\n",
    "| --- |---|---|\n",
    "| row_1 | 1 | 2 |\n",
    "| row_2 | 3 | 4 |\n",
    "| row_3 | 5 | 6 |\n",
    "\n",
    "Note that the columns should be named \"col_1\" and \"col_2\", and the rows should be named \"row_1\", \"row_2\", and \"row_3\".\n",
    "\n",
    "Hint: Use the ? symbol to invoke the matrix documentation for help.\n"
   ]
  },
  {
   "cell_type": "code",
   "execution_count": 2,
   "id": "fbbfafdc",
   "metadata": {
    "pycharm": {
     "name": "#%%\n"
    }
   },
   "outputs": [],
   "source": [
    "# Add your code here"
   ]
  },
  {
   "cell_type": "markdown",
   "id": "ba4962d3",
   "metadata": {
    "pycharm": {
     "name": "#%% md\n"
    }
   },
   "source": [
    "#### Question 2\n",
    "\n",
    "* Load the `airquality` data frame and then sort it based on its `Temp` and `Solar.R` columns in descending order (from largest to smallest values).\n",
    "  * Use the `order` function to sort the data frame.\n",
    "    * I suggest you first try order on some test data to understand how it works. \n",
    "* Display only the first 15 rows of the sorted table.\n"
   ]
  },
  {
   "cell_type": "code",
   "execution_count": null,
   "id": "55d4ecc2",
   "metadata": {
    "pycharm": {
     "name": "#%%\n"
    }
   },
   "outputs": [],
   "source": [
    "# Write your answer here"
   ]
  },
  {
   "cell_type": "markdown",
   "id": "b377d82a",
   "metadata": {
    "pycharm": {
     "name": "#%% md\n"
    }
   },
   "source": [
    "#### Question 3\n",
    "\n",
    "* Sort the `airquality` data frame based on its `Temp` column in descending order and the `Solar.R` column in ascending order.\n",
    "* Display only the first 15 rows of the sorted table.\n"
   ]
  },
  {
   "cell_type": "code",
   "execution_count": null,
   "id": "34a70e10",
   "metadata": {
    "pycharm": {
     "name": "#%%\n"
    }
   },
   "outputs": [],
   "source": [
    "# Write your answer here"
   ]
  },
  {
   "cell_type": "markdown",
   "id": "25e9a77e",
   "metadata": {
    "pycharm": {
     "name": "#%% md\n"
    }
   },
   "source": [
    "#### Question 4\n",
    "\n",
    "* There are various methods for selecting a subset of observations from a data frame in R. Refer to the [R Reference Card](https://cran.r-project.org/doc/contrib/Baggott-refcard-v2.pdf) and consult the `Data Selection and Manipulation` section.\n",
    "\n",
    "* Can you provide two other operations you could use to select all observations where the temperature is 72?\n"
   ]
  },
  {
   "cell_type": "code",
   "execution_count": 2,
   "id": "5f6a8531",
   "metadata": {
    "pycharm": {
     "name": "#%%\n"
    }
   },
   "outputs": [],
   "source": [
    "# Write your answer here"
   ]
  },
  {
   "cell_type": "markdown",
   "id": "f794ee74",
   "metadata": {
    "pycharm": {
     "name": "#%% md\n"
    }
   },
   "source": [
    "#### Question 6\n",
    "\n",
    "* You may have noticed when working with the `airquality` data frame that some values are labeled as `NA`.\n",
    "  * `NA` stands for 'Not Available', indicating missing values.\n",
    "* A significant aspect of data wrangling involves cleaning these missing values by either:\n",
    "  * Removing the rows that contain missing values.\n",
    "  * In some cases, removing an entire column if it predominantly contains missing values.\n",
    "  * Imputing the missing values using educated guesses or more advanced algorithms.\n",
    "\n",
    "* Using the `is.na()` function, find and remove all rows which have missing values for the `Solar.R` or `Ozone` variables. This function returns `TRUE` or `FALSE` for each value based on whether it is `NA` or not.\n",
    "  * I suggest you test `is.na` and work your way to the solution one column at a time\n",
    "  \n",
    "* Save the cleaned data to a new data frame named `airquality_no_na`.\n",
    "  * How many rows have been removed?\n",
    "\n",
    "* Hint: I suggest you test `is.na()` and work your way to the solution one column at a time."
   ]
  },
  {
   "cell_type": "code",
   "execution_count": null,
   "id": "4b5ade16",
   "metadata": {
    "pycharm": {
     "name": "#%%\n"
    }
   },
   "outputs": [],
   "source": [
    "# Write your answer here"
   ]
  },
  {
   "cell_type": "markdown",
   "id": "47fab9ee",
   "metadata": {
    "pycharm": {
     "name": "#%% md\n"
    }
   },
   "source": [
    "#### Question 7\n",
    "\n",
    "* Implement a new approach to deal with missing values using imputation.\n",
    "  * Substitute the missing entries in the `Solar.R` column with the corresponding monthly average.\n",
    "  * Here's how to do it:\n",
    "    * First, calculate the monthly average for Month 5, using the `mean()` function, which has an option to exclude missing values.\n",
    "    * Next, update all rows where the month is 5, replacing any missing `Solar.R` values with this calculated average for Month 5.\n"
   ]
  },
  {
   "cell_type": "code",
   "execution_count": null,
   "id": "fe11d9dd",
   "metadata": {
    "pycharm": {
     "name": "#%%\n"
    }
   },
   "outputs": [],
   "source": [
    "# Write your answer here"
   ]
  }
 ],
 "metadata": {
  "kernelspec": {
   "display_name": "R",
   "language": "R",
   "name": "ir"
  },
  "language_info": {
   "codemirror_mode": "r",
   "file_extension": ".r",
   "mimetype": "text/x-r-source",
   "name": "R",
   "pygments_lexer": "r",
   "version": "4.3.1"
  }
 },
 "nbformat": 4,
 "nbformat_minor": 5
}
