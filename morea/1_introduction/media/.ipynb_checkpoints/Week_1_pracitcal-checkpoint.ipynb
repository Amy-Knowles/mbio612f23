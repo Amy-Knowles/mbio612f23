{
 "cells": [
  {
   "cell_type": "code",
   "execution_count": null,
   "id": "a9d6a07f",
   "metadata": {},
   "outputs": [],
   "source": []
  },
  {
   "cell_type": "markdown",
   "id": "8fb34f02",
   "metadata": {},
   "source": [
    "### Question 1\n",
    "\n",
    "* Draw a concept diagram incorporating all the R and programming terms listed below. If there are any keywords you feel would simplify or enhance the diagram, please include them:\n",
    "\n",
    "```\n",
    "Code, Variable, Data, Function, Call, Invoke, Type, Expression, Assign, Return value, Character, Numeric, Integer, Logical, Data structure, Arguments, Parameters, Default values, Vector, Data Type, Statement, Comment.\n",
    "```\n",
    "\n",
    "Not sure what a concept diagram is? Check out this overview. Don't worry about making it too polished – a simple doodle or a picture taken with your phone will suffice.\n",
    "\n",
    "You can attach an image right here! Use the following syntax to embed an image in a Jupyter notebook or markdown:\n",
    "```\n",
    "![](image_URL)\n",
    "```\n",
    "\n"
   ]
  },
  {
   "cell_type": "markdown",
   "id": "dcace754",
   "metadata": {},
   "source": [
    "### Question 2\n",
    "\n",
    "1. Rename Your Notebook:\n",
    "  * If you're using RStudio: Practical_1.Rmd\n",
    "  * If you're using Jupyter: Practical_1.ipynb\n",
    " \n",
    " \n",
    "2. For Jupyter Users:\n",
    "  * Ensure your notebook is running on the R Kernel. This sets the environment or \"runtime\" of your notebook.\n",
    "    * Note: By default, it might be set to Python.\n",
    "\n",
    "\n",
    "3. Let's Test Everything:\n",
    "  * In the cell below, create a vector x with values ranging from 1 to 5. \n",
    "  * Calculate its mean using the mean function. \n",
    "  * Store this result in a new variable, **y**.\n",
    "  \n",
    "\n",
    "4. Document Your Work:\n",
    "  * Add a new cell above this one.\n",
    "  * In the new cell, set the title to: \"This is a markdown test\"\n",
    "  * Add the follwing : \"The variable y contains the mean of 5 values.\"\n",
    "  * Highlight the variable name **y** by making it bold.\n"
   ]
  },
  {
   "cell_type": "code",
   "execution_count": null,
   "id": "9be1d8f9",
   "metadata": {},
   "outputs": [],
   "source": [
    "# Write you code in this cell\n"
   ]
  },
  {
   "cell_type": "markdown",
   "id": "96a5872d",
   "metadata": {},
   "source": [
    "### Question 3\n",
    "\n",
    "In the cell below:\n",
    "\n",
    "  * Create a statement that assigns the number of seconds in a minute to a variable named `sec_per_min`.\n",
    "  * Compute a new variable, `sec_per_hour`, which represents the number of seconds in an hour.\n",
    "  * `sec_per_hour` is calculated by multiplying `sec_per_min` by 60.\n",
    "  * Determine the number of seconds in a day and store this in the `sec_per_day` variable.\n",
    "  * `sec_per_day` is found by multiplying `sec_per_hour` by 24.\n",
    "  * Finally, display the value of `sec_per_day` to show the total number of seconds in a single day."
   ]
  },
  {
   "cell_type": "code",
   "execution_count": null,
   "id": "b65f8b70",
   "metadata": {},
   "outputs": [],
   "source": [
    "# Write you code in this cell\n"
   ]
  },
  {
   "cell_type": "markdown",
   "id": "b845130f",
   "metadata": {},
   "source": [
    "### Question 4\n",
    "\n",
    "* Remember that the `c` function in R is used to create atomic vectors.\n",
    "\n",
    "* What type of data does the following expression produce?\n",
    "  \n",
    "  `c(1, 2, 3, \"Hi\")`\n",
    "\n",
    "  * Specifically, what is the class of the data it contains?\n",
    "  \n",
    "\n",
    "* Is the following expression valid in R?\n",
    "\n",
    "  `c(1, 2, 3, \"Hi\") + 1`\n",
    "\n",
    "* What about this one?\n",
    "\n",
    "  `c(1, 2, 3, FALSE) + 1`\n",
    "  \n",
    "  \n",
    "\n",
    "* **Hint:** Use the `class()` function to determine the atomic data type stored in a vector.\n"
   ]
  },
  {
   "cell_type": "markdown",
   "id": "ba563acd",
   "metadata": {},
   "source": [
    "### Question 5: \n",
    "\n",
    "* We will be reproducing the following plot.\n",
    "\n",
    "![](https://www.dropbox.com/s/c4nf3n96np3i7nm/simple_qplot_example.png?dl=1)\n",
    "\n",
    "\n"
   ]
  },
  {
   "cell_type": "markdown",
   "id": "36ea72a1",
   "metadata": {},
   "source": [
    "### Step 1: Create `x-axis` Values\n",
    "\n",
    "* Construct a variable named `x_axis` which is a `vector` holding numerical values ranging from 0 to 10 in increments of 0.5.\n",
    "    * In other words, `x_axis` should have the values: 0, 0.5, 1, 1.5, 2, ... up to 10.\n",
    "    * **Hint:** Look for a function in R that generates sequences of numbers to help you create this vector.\n"
   ]
  },
  {
   "cell_type": "code",
   "execution_count": null,
   "id": "ad55fe68",
   "metadata": {},
   "outputs": [],
   "source": [
    "# Write you code in this cell\n",
    "\n"
   ]
  },
  {
   "cell_type": "markdown",
   "id": "51d5fa41",
   "metadata": {},
   "source": [
    "### Step 2: Generate `y-axis` Values\n",
    "\n",
    "* Construct a variable named `y_axis` based on the formula $(x^2 + 2x + 3)$.\n",
    "    * In essence, each $y$ value in the `y_axis` variable is computed from the formula $x^2 + 2x + 3$, where `x` corresponds to the value at the matching position in `x_axis`.\n",
    "    * For instance:\n",
    "      * The value at the first spot in `y_axis` comes from: $0^2 + 2(0) + 3 = 3$.\n",
    "      * The value at the second spot results from: $0.5^2 + 2(0.5) + 3 = 4.25$.\n",
    "      * ... and so on.\n",
    "\n",
    "* **Hint:** Recall that when you perform arithmetic operations on a vector in R, they're processed element by element.\n"
   ]
  },
  {
   "cell_type": "code",
   "execution_count": null,
   "id": "adc293ad",
   "metadata": {},
   "outputs": [],
   "source": [
    "# Write you code in this cell\n",
    "\n"
   ]
  },
  {
   "cell_type": "markdown",
   "id": "fe96674b",
   "metadata": {},
   "source": [
    "### Step 3: Visualize the Relationship between `x_axis` and `y_axis`\n",
    "\n",
    "* Let's plot the values from `x_axis` against those of `y_axis`.\n",
    "\n",
    "* Utilize the `qplot` function from the `ggplot` library to visualize the relationship between `x_axis` and `y_axis`.\n",
    "    * If you're unfamiliar with `qplot`, its documentation is a handy reference for understanding its input parameters.\n",
    "    * Recall that you can invoke a function's documentation by prefixing it with the `?`.\n",
    "\n",
    "* Enhance the aesthetics of your plot to include:\n",
    "  * A descriptive label for the `x-axis`. For instance, \"My x_axis\".\n",
    "  * A descriptive label for the `y-axis`. For instance, \"My y_axis\".\n",
    "  * An engaging title like \"My amazing plot of x_axis versus y_axis\".\n",
    "  * Dots that stand out, i.e., those that are larger than the default size.\n",
    "\n",
    "* **Hint:** Remember, you can often customize a function's output by tweaking its default arguments.\n",
    "  * Do you know which arguments adjust the labels for the `x-axis`, `y-axis`, and the plot's title?\n",
    "  * Which argument should you change to modify the size of the dots?\n"
   ]
  },
  {
   "cell_type": "code",
   "execution_count": 1,
   "id": "ea0fbb6f",
   "metadata": {},
   "outputs": [],
   "source": [
    "# Write you code in this cell\n",
    "\n",
    "\n"
   ]
  }
 ],
 "metadata": {
  "kernelspec": {
   "display_name": "R",
   "language": "R",
   "name": "ir"
  },
  "language_info": {
   "codemirror_mode": "r",
   "file_extension": ".r",
   "mimetype": "text/x-r-source",
   "name": "R",
   "pygments_lexer": "r",
   "version": "4.2.1"
  }
 },
 "nbformat": 4,
 "nbformat_minor": 5
}
